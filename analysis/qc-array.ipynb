{
 "cells": [
  {
   "cell_type": "markdown",
   "metadata": {},
   "source": [
    "QC Array\n",
    "========\n",
    "\n",
    "***Analysis step***\n",
    "\n",
    "**Author:** *Jay Kim*"
   ]
  },
  {
   "cell_type": "markdown",
   "metadata": {},
   "source": [
    "## Test sample contamination (bafRegress)\n",
    "G. Jun, M. Flickinger, K. N. Hetrick, Kurt, J. M. Romm, K. F. Doheny, G. Abecasis, M. Boehnke,and H. M. Kang, _Detecting and Estimating Contamination of Human DNA Samples in Sequencing and Array-Based Genotype Data_, American journal of human genetics doi:10.1016/j.ajhg.2012.09.004 (volume 91 issue 5 pp.839 - 848)"
   ]
  },
  {
   "cell_type": "markdown",
   "metadata": {},
   "source": [
    "### Get all sample metadata and gencall data for project/batch:"
   ]
  },
  {
   "cell_type": "code",
   "execution_count": 8,
   "metadata": {},
   "outputs": [
    {
     "data": {
      "text/html": [
       "<ol>\n",
       "</ol>\n"
      ],
      "text/latex": [
       "\\begin{enumerate}\n",
       "\\end{enumerate}\n"
      ],
      "text/markdown": [
       "\n",
       "\n"
      ],
      "text/plain": [
       "list()"
      ]
     },
     "metadata": {},
     "output_type": "display_data"
    }
   ],
   "source": [
    "library(purrr)\n",
    "library(dplyr, warn.conflicts = FALSE)\n",
    "library(tidyr)\n",
    "\n",
    "# Get the bead pool manifest data\n",
    "s3 <- paws::s3()\n",
    "bucket <- 'pbc-iscan-qcarrays'\n",
    "filename <- \"InfiniumQCArray-24v1-0_A4.bpm\"\n",
    "bpm <- paste0(\"/tmp/\", filename)\n",
    "s3$download_file(bucket, filename, bpm)\n",
    "bead.array.files <- reticulate::import('IlluminaBeadArrayFiles')\n",
    "manifest <- bead.array.files$BeadPoolManifest(bpm)\n",
    "\n",
    "# TODO: Fetch the sample metadata from the database\n",
    "#json <- httr::content(httr::GET(\"http://{endpoint}/sampleinfo?batchid={JIRA}\"), \"text\")\n",
    "json <-\n",
    "'[\n",
    "    {\"Sample_ID\" : \"CPT0nnnnn_0001\", \"Barcode\" : \"203323200003\", \"Position\" : \"R11C02\"},\n",
    "    {\"Sample_ID\" : \"CPT0nnnnn_0002\", \"Barcode\" : \"203323200003\", \"Position\" : \"R11C02\"}\n",
    "]'\n",
    "sample.info <- jsonlite::fromJSON(json, simplifyDataFrame=FALSE)\n",
    "names(sample.info) <- map(sample.info, ~ .$Sample_ID)\n",
    "# Get genotype data for each sample in the sample list\n",
    "get.sample.data <- function(sample) {\n",
    "    key <- glue::glue('{sample$Barcode}_{sample$Position}.gtc')\n",
    "    filename <- paste0(\"/tmp/\",key)\n",
    "    s3$download_file(bucket, key, filename)\n",
    "    gtc <- bead.array.files$GenotypeCalls(filename)\n",
    "    baf <- gtc$get_ballele_freqs()\n",
    "    abgeno <- unlist(map(gtc$get_genotypes(),\n",
    "                    ~ bead.array.files$code2genotype[.+1]))\n",
    "    return(data.frame(snp=manifest$names,baf,abgeno))\n",
    "}\n",
    "sample.data <- map(sample.info, get.sample.data)"
   ]
  },
  {
   "cell_type": "markdown",
   "metadata": {},
   "source": [
    "### Aggregate project/batch MAFs across entire study/cohort:"
   ]
  },
  {
   "cell_type": "code",
   "execution_count": 21,
   "metadata": {},
   "outputs": [],
   "source": [
    "# for each project/batch in the study/cohort\n",
    "\n",
    "    # TODO: See if the MAFs for this project/batch are in the cache\n",
    "\n",
    "    # else calculate them\n",
    "    maf.calc <- function(AA, AB, BB) (AB+2*BB)/(2*(AA+AB+BB))\n",
    "    maf <- bind_rows(sample.data, .id=\"Sample_ID\") %>%\n",
    "      group_by(snp, abgeno) %>%\n",
    "      summarise(n=n(), .groups=\"drop_last\") %>%\n",
    "      spread(abgeno, n) %>%\n",
    "      replace(is.na(.), 0) %>%\n",
    "      summarise(maf=maf.calc(AA,AB,BB))\n",
    "\n",
    "    # TODO: Cache the MAFs for this project/batch\n",
    "\n",
    "# TODO: Calculate the combined MAFs across all projects/batches in the study/cohort"
   ]
  },
  {
   "cell_type": "markdown",
   "metadata": {},
   "source": [
    "### Test each sample for contamination:"
   ]
  },
  {
   "cell_type": "code",
   "execution_count": 20,
   "metadata": {},
   "outputs": [],
   "source": [
    "source(\"bafRegress.R\")\n",
    "baf_results <- map(sample.data, ~ testsamplecontamination(.$baf,.$abgeno,maf$maf))"
   ]
  },
  {
   "cell_type": "markdown",
   "metadata": {},
   "source": [
    "# Analysis"
   ]
  },
  {
   "cell_type": "markdown",
   "metadata": {},
   "source": [
    "set the name of comparison prefix by pulling the parent directory name"
   ]
  },
  {
   "cell_type": "code",
   "execution_count": null,
   "metadata": {},
   "outputs": [],
   "source": [
    "comparison = tail(strsplit(getwd(),\"/\")[[1]],n=1)"
   ]
  },
  {
   "cell_type": "markdown",
   "metadata": {},
   "source": [
    "## Import gencalls"
   ]
  },
  {
   "cell_type": "code",
   "execution_count": 14,
   "metadata": {},
   "outputs": [
    {
     "name": "stdout",
     "output_type": "stream",
     "text": [
      "--- raw_data ---\n",
      "A genotypes object with 15949 sites x 1 samples\n",
      "Allele encoding: native \n",
      "Intensity data: yes (raw) \n",
      "Sample metadata: yes ( 0 male / 1 female / 0 unknown )\n",
      "Filters set: 0 sites / 0 samples \n",
      "Checksum: c730e3dd28525c0e2a47d0c908838ad3 \n",
      "Genotypes matrix:\n",
      "                CPT0n \n",
      " 2010-08-Y-1111     H \n",
      " 2010-08-Y-1221     H \n",
      " 2010-08-Y-1995     H \n",
      " 2010-08-Y-2045     H \n",
      " 2010-08-Y-3042     H \n",
      " 2010-08-Y-3189     H \n",
      " 2010-08-Y-3314     H \n",
      " 2010-08-Y-3348     H \n",
      " 2010-08-Y-3576     H \n",
      "  2010-08-Y-749     H \n",
      "\n",
      "Marker map:\n",
      " chr         marker cM pos A1 A2\n",
      "   0 2010-08-Y-1111 NA   0  A  G\n",
      "   0 2010-08-Y-1221 NA   0  A  G\n",
      "   0 2010-08-Y-1995 NA   0  A  C\n",
      "   0 2010-08-Y-2045 NA   0  A  G\n",
      "   0 2010-08-Y-3042 NA   0  T  C\n",
      "   0 2010-08-Y-3189 NA   0  A  C\n",
      "   0 2010-08-Y-3314 NA   0  T  C\n",
      "   0 2010-08-Y-3348 NA   0  T  C\n",
      "   0 2010-08-Y-3576 NA   0  T  C\n",
      "   0  2010-08-Y-749 NA   0  T  C\n",
      "\n",
      "Sample info:\n",
      "            fid            iid mom dad sex pheno\n",
      " CPT0nnnnn_0001 CPT0nnnnn_0001   0   0   2     0\n"
     ]
    }
   ],
   "source": [
    "source(\"analysis-utils.R\")\n",
    "raw_data <- import.gencalls(sample.info)\n",
    "summary(raw_data)\n",
    "head(raw_data)"
   ]
  },
  {
   "cell_type": "markdown",
   "metadata": {},
   "source": [
    "## QC .idat"
   ]
  },
  {
   "cell_type": "code",
   "execution_count": null,
   "metadata": {},
   "outputs": [],
   "source": [
    "# ..."
   ]
  },
  {
   "cell_type": "markdown",
   "metadata": {},
   "source": [
    "## Import .gds file"
   ]
  },
  {
   "cell_type": "code",
   "execution_count": null,
   "metadata": {},
   "outputs": [],
   "source": [
    "# ..."
   ]
  }
 ],
 "metadata": {
  "instance_type": "ml.t3.medium",
  "kernelspec": {
   "display_name": "R (Custom R Image) (custom-r/latest)",
   "language": "python",
   "name": "ir__SAGEMAKER_INTERNAL__arn:aws:sagemaker:us-east-2:313101823245:image/custom-r"
  },
  "language_info": {
   "codemirror_mode": "r",
   "file_extension": ".r",
   "mimetype": "text/x-r-source",
   "name": "R",
   "pygments_lexer": "r",
   "version": "4.0.5"
  }
 },
 "nbformat": 4,
 "nbformat_minor": 4
}
