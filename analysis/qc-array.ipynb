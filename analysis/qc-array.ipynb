{
 "cells": [
  {
   "cell_type": "markdown",
   "metadata": {},
   "source": [
    "QC Array\n",
    "========\n",
    "\n",
    "***Analysis step***\n",
    "\n",
    "**Author:** *Jay Kim*"
   ]
  },
  {
   "cell_type": "markdown",
   "metadata": {},
   "source": [
    "## Test sample contamination (bafRegress)\n",
    "G. Jun, M. Flickinger, K. N. Hetrick, Kurt, J. M. Romm, K. F. Doheny, G. Abecasis, M. Boehnke,and H. M. Kang, _Detecting and Estimating Contamination of Human DNA Samples in Sequencing and Array-Based Genotype Data_, American journal of human genetics doi:10.1016/j.ajhg.2012.09.004 (volume 91 issue 5 pp.839 - 848)"
   ]
  },
  {
   "cell_type": "markdown",
   "metadata": {},
   "source": [
    "Get all sample metadata for batch:\n",
    "\n",
    "***TODO: implement API***"
   ]
  },
  {
   "cell_type": "code",
   "execution_count": 2,
   "metadata": {},
   "outputs": [],
   "source": [
    "#json <- httr::content(httr::GET(\"http://{endpoint}/sampleinfo?batchid={JIRA}\"), \"text\")\n",
    "json <-\n",
    "'[\n",
    "    {\"Sample_ID\" : \"CPT0nnnnn_0001\", \"Barcode\" : \"203323200003\", \"Position\" : \"R11C02\"}\n",
    "]'\n",
    "sample.info <- jsonlite::fromJSON(json)"
   ]
  },
  {
   "cell_type": "markdown",
   "metadata": {},
   "source": [
    "Aggregate batch MAFs across entire study:\n",
    "\n",
    "***TODO: implement per-batch MAF calc,caching***"
   ]
  },
  {
   "cell_type": "code",
   "execution_count": 14,
   "metadata": {},
   "outputs": [],
   "source": [
    "maf <- runif(15949, max=.5)"
   ]
  },
  {
   "cell_type": "markdown",
   "metadata": {},
   "source": [
    "test each sample for contamination:"
   ]
  },
  {
   "cell_type": "code",
   "execution_count": null,
   "metadata": {},
   "outputs": [],
   "source": [
    "source(\"bafRegress.R\")\n",
    "baf_results <- testsamples(sample.info, maf)"
   ]
  },
  {
   "cell_type": "markdown",
   "metadata": {},
   "source": [
    "set the name of comparison prefix by pulling the parent directory name"
   ]
  },
  {
   "cell_type": "code",
   "execution_count": null,
   "metadata": {},
   "outputs": [],
   "source": [
    "comparison = tail(strsplit(getwd(),\"/\")[[1]],n=1)"
   ]
  },
  {
   "cell_type": "markdown",
   "metadata": {},
   "source": [
    "## Import gencalls"
   ]
  },
  {
   "cell_type": "code",
   "execution_count": 14,
   "metadata": {},
   "outputs": [
    {
     "name": "stdout",
     "output_type": "stream",
     "text": [
      "--- raw_data ---\n",
      "A genotypes object with 15949 sites x 1 samples\n",
      "Allele encoding: native \n",
      "Intensity data: yes (raw) \n",
      "Sample metadata: yes ( 0 male / 1 female / 0 unknown )\n",
      "Filters set: 0 sites / 0 samples \n",
      "Checksum: c730e3dd28525c0e2a47d0c908838ad3 \n",
      "Genotypes matrix:\n",
      "                CPT0n \n",
      " 2010-08-Y-1111     H \n",
      " 2010-08-Y-1221     H \n",
      " 2010-08-Y-1995     H \n",
      " 2010-08-Y-2045     H \n",
      " 2010-08-Y-3042     H \n",
      " 2010-08-Y-3189     H \n",
      " 2010-08-Y-3314     H \n",
      " 2010-08-Y-3348     H \n",
      " 2010-08-Y-3576     H \n",
      "  2010-08-Y-749     H \n",
      "\n",
      "Marker map:\n",
      " chr         marker cM pos A1 A2\n",
      "   0 2010-08-Y-1111 NA   0  A  G\n",
      "   0 2010-08-Y-1221 NA   0  A  G\n",
      "   0 2010-08-Y-1995 NA   0  A  C\n",
      "   0 2010-08-Y-2045 NA   0  A  G\n",
      "   0 2010-08-Y-3042 NA   0  T  C\n",
      "   0 2010-08-Y-3189 NA   0  A  C\n",
      "   0 2010-08-Y-3314 NA   0  T  C\n",
      "   0 2010-08-Y-3348 NA   0  T  C\n",
      "   0 2010-08-Y-3576 NA   0  T  C\n",
      "   0  2010-08-Y-749 NA   0  T  C\n",
      "\n",
      "Sample info:\n",
      "            fid            iid mom dad sex pheno\n",
      " CPT0nnnnn_0001 CPT0nnnnn_0001   0   0   2     0\n"
     ]
    }
   ],
   "source": [
    "source(\"analysis-utils.R\")\n",
    "raw_data <- import.gencalls(sample.info)\n",
    "summary(raw_data)\n",
    "head(raw_data)"
   ]
  },
  {
   "cell_type": "markdown",
   "metadata": {},
   "source": [
    "## QC .idat"
   ]
  },
  {
   "cell_type": "code",
   "execution_count": null,
   "metadata": {},
   "outputs": [],
   "source": [
    "# ..."
   ]
  },
  {
   "cell_type": "markdown",
   "metadata": {},
   "source": [
    "## Import .gds file"
   ]
  },
  {
   "cell_type": "code",
   "execution_count": null,
   "metadata": {},
   "outputs": [],
   "source": [
    "# ..."
   ]
  }
 ],
 "metadata": {
  "instance_type": "ml.t3.medium",
  "kernelspec": {
   "display_name": "R (Custom R Image) (custom-r/latest)",
   "language": "python",
   "name": "ir__SAGEMAKER_INTERNAL__arn:aws:sagemaker:us-east-2:313101823245:image/custom-r"
  },
  "language_info": {
   "codemirror_mode": "r",
   "file_extension": ".r",
   "mimetype": "text/x-r-source",
   "name": "R",
   "pygments_lexer": "r",
   "version": "4.0.5"
  }
 },
 "nbformat": 4,
 "nbformat_minor": 4
}
