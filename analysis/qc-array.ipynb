{
 "cells": [
  {
   "cell_type": "markdown",
   "metadata": {},
   "source": [
    "QC Array\n",
    "========\n",
    "\n",
    "***Analysis step***\n",
    "\n",
    "**Author:** *Jay Kim*"
   ]
  },
  {
   "cell_type": "markdown",
   "metadata": {},
   "source": [
    "## Test sample contamination (bafRegress)\n",
    "G. Jun, M. Flickinger, K. N. Hetrick, Kurt, J. M. Romm, K. F. Doheny, G. Abecasis, M. Boehnke,and H. M. Kang, _Detecting and Estimating Contamination of Human DNA Samples in Sequencing and Array-Based Genotype Data_, American journal of human genetics doi:10.1016/j.ajhg.2012.09.004 (volume 91 issue 5 pp.839 - 848)"
   ]
  },
  {
   "cell_type": "markdown",
   "metadata": {},
   "source": [
    "### Read in bead pool manifest and fetch sample metadata from the database"
   ]
  },
  {
   "cell_type": "code",
   "execution_count": 4,
   "metadata": {},
   "outputs": [],
   "source": [
    "library(dplyr, warn.conflicts = FALSE)\n",
    "library(arrow, warn.conflicts = FALSE)\n",
    "library(glue)\n",
    "\n",
    "GTC_BUCKET <- \"pbc-iscan-qcarrays\"\n",
    "\n",
    "# Get the bead pool manifest data\n",
    "bead_array_files <- reticulate::import(\"IlluminaBeadArrayFiles\")\n",
    "manifest <- bead_array_files$BeadPoolManifest(glue(\"s3://{GTC_BUCKET}/InfiniumQCArray-24v1-0_A4.bpm\"))\n",
    "\n",
    "# Fetch the sample metadata from the database\n",
    "sample_info <- open_dataset(\"s3://pbc-qcarray-sample-info/\", partitioning=c(\"JIRA\"))\n",
    "#sample_info %>% collect() %>% head()"
   ]
  },
  {
   "cell_type": "markdown",
   "metadata": {},
   "source": [
    "### Get baf and genotype data for all samples in the project/batch:"
   ]
  },
  {
   "cell_type": "code",
   "execution_count": 5,
   "metadata": {},
   "outputs": [],
   "source": [
    "# Get baf and genotype data for each sample in the sample list\n",
    "get_baf_data <- function(Barcode, Position) {\n",
    "    gtc <- bead_array_files$GenotypeCalls(glue(\"s3://{GTC_BUCKET}/{Barcode}/{Position}.gtc\"))\n",
    "    baf <- gtc$get_ballele_freqs()\n",
    "    abgeno <- gtc$get_genotypes()\n",
    "    tibble(baf=baf,abgeno=abgeno) %>% \n",
    "        mutate(abgeno=bead_array_files$code2genotype[abgeno+1])\n",
    "}\n",
    "baf_data <- sample_info %>%\n",
    "    filter(JIRA == \"JEWSC_20211118_Qcarray\") %>%\n",
    "    group_by(Sample_ID) %>%\n",
    "    collect() %>%\n",
    "    summarize(get_baf_data(Barcode,Position), .groups=\"keep\")"
   ]
  },
  {
   "cell_type": "markdown",
   "metadata": {},
   "source": [
    "### Aggregate MAFs across multiple projects/batches:"
   ]
  },
  {
   "cell_type": "code",
   "execution_count": 6,
   "metadata": {},
   "outputs": [],
   "source": [
    "source(\"popmaf.R\")\n",
    "\n",
    "# Fetch the sample counts per project from the metadata in each sample_info file. First query all\n",
    "# the available JIRA values that match the condition, then get the row count from the file metadata.\n",
    "# This should be very fast.\n",
    "batches <- sample_info %>%\n",
    "    filter(JIRA %in% c(\"JEWSC_20211118_Qcarray\")) %>%\n",
    "    select(JIRA) %>% distinct(JIRA) %>%\n",
    "    collect() %>%\n",
    "    mutate(nsamples = num_rows(JIRA))\n",
    "\n",
    "# Now aggregate all of the per batch MAFs, then combine the whole range requested\n",
    "popmaf <- calc_popmaf(batches, GTC_BUCKET)"
   ]
  },
  {
   "cell_type": "markdown",
   "metadata": {},
   "source": [
    "### Test each sample for contamination:"
   ]
  },
  {
   "cell_type": "code",
   "execution_count": 96,
   "metadata": {},
   "outputs": [],
   "source": [
    "source(\"bafRegress.R\")\n",
    "baf_results <- baf_data %>%\n",
    "    map(~ testsamplecontamination(.$baf,.$abgeno,popmaf$maf))"
   ]
  },
  {
   "cell_type": "markdown",
   "metadata": {},
   "source": [
    "# Analysis"
   ]
  },
  {
   "cell_type": "markdown",
   "metadata": {},
   "source": [
    "set the name of comparison prefix by pulling the parent directory name"
   ]
  },
  {
   "cell_type": "code",
   "execution_count": null,
   "metadata": {},
   "outputs": [],
   "source": [
    "comparison = tail(strsplit(getwd(),\"/\")[[1]],n=1)"
   ]
  },
  {
   "cell_type": "markdown",
   "metadata": {},
   "source": [
    "## Import gencalls"
   ]
  },
  {
   "cell_type": "code",
   "execution_count": 124,
   "metadata": {},
   "outputs": [
    {
     "name": "stdout",
     "output_type": "stream",
     "text": [
      "[1] 2\n",
      "[1] 2\n",
      "CPT0nnnnn_0001 CPT0nnnnn_0002 \n",
      "             2              2 \n",
      "--- raw_data ---\n",
      "A genotypes object with 15949 sites x 2 samples\n",
      "Allele encoding: native \n",
      "Intensity data: yes (raw) \n",
      "Sample metadata: yes ( 0 male / 2 female / 0 unknown )\n",
      "Filters set: 0 sites / 0 samples \n",
      "Checksum: 2ebb6487683dbda81c6458d34d10d644 \n",
      "Genotypes matrix:\n",
      "                CPT0n CPT0n \n",
      " 2010-08-Y-1111     H     H \n",
      " 2010-08-Y-1221     H     H \n",
      " 2010-08-Y-1995     H     H \n",
      " 2010-08-Y-2045     H     H \n",
      " 2010-08-Y-3042     H     H \n",
      " 2010-08-Y-3189     H     H \n",
      " 2010-08-Y-3314     H     H \n",
      " 2010-08-Y-3348     H     H \n",
      " 2010-08-Y-3576     H     H \n",
      "  2010-08-Y-749     H     H \n",
      "\n",
      "Marker map:\n",
      " chr         marker cM pos A1 A2\n",
      "   0 2010-08-Y-1111 NA   0  A  G\n",
      "   0 2010-08-Y-1221 NA   0  A  G\n",
      "   0 2010-08-Y-1995 NA   0  A  C\n",
      "   0 2010-08-Y-2045 NA   0  A  G\n",
      "   0 2010-08-Y-3042 NA   0  T  C\n",
      "   0 2010-08-Y-3189 NA   0  A  C\n",
      "   0 2010-08-Y-3314 NA   0  T  C\n",
      "   0 2010-08-Y-3348 NA   0  T  C\n",
      "   0 2010-08-Y-3576 NA   0  T  C\n",
      "   0  2010-08-Y-749 NA   0  T  C\n",
      "\n",
      "Sample info:\n",
      "            fid            iid mom dad sex pheno\n",
      " CPT0nnnnn_0001 CPT0nnnnn_0001   0   0   2     0\n",
      " CPT0nnnnn_0002 CPT0nnnnn_0002   0   0   2     0\n"
     ]
    }
   ],
   "source": [
    "source(\"analysis-utils.R\")\n",
    "raw_data <- import.gencalls(sample_info, manifest)\n",
    "summary(raw_data)\n",
    "head(raw_data)"
   ]
  },
  {
   "cell_type": "markdown",
   "metadata": {},
   "source": [
    "## QC .idat"
   ]
  },
  {
   "cell_type": "code",
   "execution_count": null,
   "metadata": {},
   "outputs": [],
   "source": [
    "# ..."
   ]
  },
  {
   "cell_type": "markdown",
   "metadata": {},
   "source": [
    "## Import .gds file"
   ]
  },
  {
   "cell_type": "code",
   "execution_count": null,
   "metadata": {},
   "outputs": [],
   "source": [
    "# ..."
   ]
  }
 ],
 "metadata": {
  "instance_type": "ml.t3.medium",
  "kernelspec": {
   "display_name": "R (Custom R Image) (custom-r/latest)",
   "language": "python",
   "name": "ir__SAGEMAKER_INTERNAL__arn:aws:sagemaker:us-east-2:313101823245:image/custom-r"
  },
  "language_info": {
   "codemirror_mode": "r",
   "file_extension": ".r",
   "mimetype": "text/x-r-source",
   "name": "R",
   "pygments_lexer": "r",
   "version": "4.0.5"
  }
 },
 "nbformat": 4,
 "nbformat_minor": 4
}
