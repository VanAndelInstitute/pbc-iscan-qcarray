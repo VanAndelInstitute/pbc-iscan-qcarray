{
 "cells": [
  {
   "cell_type": "markdown",
   "metadata": {},
   "source": [
    "QC Array\n",
    "========\n",
    "\n",
    "***Analysis step***\n",
    "\n",
    "**Author:** *Jay Kim*"
   ]
  },
  {
   "cell_type": "markdown",
   "metadata": {},
   "source": [
    "## Test sample contamination (bafRegress)\n",
    "G. Jun, M. Flickinger, K. N. Hetrick, Kurt, J. M. Romm, K. F. Doheny, G. Abecasis, M. Boehnke,and H. M. Kang, _Detecting and Estimating Contamination of Human DNA Samples in Sequencing and Array-Based Genotype Data_, American journal of human genetics doi:10.1016/j.ajhg.2012.09.004 (volume 91 issue 5 pp.839 - 848)"
   ]
  },
  {
   "cell_type": "code",
   "execution_count": null,
   "metadata": {},
   "outputs": [],
   "source": [
    "library(httr)\n",
    "library(jsonlite)\n",
    "library(dplyr)"
   ]
  },
  {
   "cell_type": "markdown",
   "metadata": {},
   "source": [
    "Aggregate batch MAFs across entire study:"
   ]
  },
  {
   "cell_type": "code",
   "execution_count": 48,
   "metadata": {},
   "outputs": [
    {
     "name": "stderr",
     "output_type": "stream",
     "text": [
      "Warning message:\n",
      "“package ‘httr’ was built under R version 4.0.5”\n",
      "\u001b[1m\u001b[22mNew names:\n",
      "\u001b[36m•\u001b[39m `` -> `...1`\n",
      "\u001b[36m•\u001b[39m `` -> `...2`\n"
     ]
    },
    {
     "data": {
      "text/html": [
       "<style>\n",
       ".list-inline {list-style: none; margin:0; padding: 0}\n",
       ".list-inline>li {display: inline-block}\n",
       ".list-inline>li:not(:last-child)::after {content: \"\\00b7\"; padding: 0 .5ex}\n",
       "</style>\n",
       "<ol class=list-inline><li>0.4168</li><li>0.3</li><li>0.317</li><li>0.275</li></ol>\n"
      ],
      "text/latex": [
       "\\begin{enumerate*}\n",
       "\\item 0.4168\n",
       "\\item 0.3\n",
       "\\item 0.317\n",
       "\\item 0.275\n",
       "\\end{enumerate*}\n"
      ],
      "text/markdown": [
       "1. 0.4168\n",
       "2. 0.3\n",
       "3. 0.317\n",
       "4. 0.275\n",
       "\n",
       "\n"
      ],
      "text/plain": [
       "[1] 0.4168 0.3000 0.3170 0.2750"
      ]
     },
     "metadata": {},
     "output_type": "display_data"
    }
   ],
   "source": [
    "json <- content(GET(\"http://{endpoint}/maf?batchid=all\"), \"text\")\n",
    "# json <-\n",
    "# '[\n",
    "#     {\"JIRA\" : \"JIRA_1\", \"sample_count\" : 4, \"mafs\" : [0.4324,0.3,0.234,0.05]},\n",
    "#     {\"JIRA\" : \"JIRA_2\", \"sample_count\" : 4, \"mafs\" : [0.4012,0.3,0.4,0.5]}\n",
    "# ]'\n",
    "batches <- fromJSON(json)\n",
    "mafs <- bind_cols(batches$mafs)\n",
    "names(mafs) <- batches$JIRA\n",
    "maf <- rowSums(mafs*batches$sample_count)/sum(batches$sample_count)"
   ]
  },
  {
   "cell_type": "markdown",
   "metadata": {},
   "source": [
    "Get sample info for batch and test each sample for contamination:"
   ]
  },
  {
   "cell_type": "code",
   "execution_count": 52,
   "metadata": {},
   "outputs": [
    {
     "ename": "ERROR",
     "evalue": "Error in curl::curl_fetch_memory(url, handle = handle): Could not resolve host: {endpoint}\n",
     "output_type": "error",
     "traceback": [
      "Error in curl::curl_fetch_memory(url, handle = handle): Could not resolve host: {endpoint}\nTraceback:\n",
      "1. content(GET(\"http://{endpoint}/sampleinfo?batchid={JIRA}\"), \"text\")",
      "2. stopifnot(is.response(x))",
      "3. is.response(x)",
      "4. GET(\"http://{endpoint}/sampleinfo?batchid={JIRA}\")",
      "5. request_perform(req, hu$handle$handle)",
      "6. request_fetch(req$output, req$url, handle)",
      "7. request_fetch.write_memory(req$output, req$url, handle)",
      "8. curl::curl_fetch_memory(url, handle = handle)"
     ]
    }
   ],
   "source": [
    "json <- content(GET(\"http://{endpoint}/sampleinfo?batchid={JIRA}\"), \"text\")\n",
    "sample_info <- fromJSON(json)\n",
    "# json <-\n",
    "# '[\n",
    "#     {\"JIRA\" : \"JIRA_1\", \"sample_id\" : \"CPT1\", \"barcode\" : \"xxxxxx\", \"position\" : \"RXXCXX\"},\n",
    "#     {\"JIRA\" : \"JIRA_2\", \"sample_id\" : \"CPT2\", \"barcode\" : \"xxxxxx\", \"position\" : \"RXXCXX\"}\n",
    "# ]'\n",
    "getgtc <- function(sample) {\n",
    "    json <- content(GET(\"http://{endpoint}/gtc/{sample$barcode}_{sample$position}\"), \"text\")\n",
    "    return(fromJSON(json))\n",
    "}\n",
    "source(\"bafRegress.R\")\n",
    "baf_results <- testsamples(sample_info, maf, getgtc)"
   ]
  },
  {
   "cell_type": "markdown",
   "metadata": {},
   "source": [
    "## Import Packages"
   ]
  },
  {
   "cell_type": "code",
   "execution_count": null,
   "metadata": {},
   "outputs": [],
   "source": [
    "source(\"analysis-utils.R\")\n",
    "\n",
    "library(optparse)\n",
    "library(kableExtra)\n",
    "library(NMF)\n",
    "library(RColorBrewer)\n",
    "library(plyr)\n",
    "library(dplyr)\n",
    "library(SNPRelate)\n",
    "library(argyle)"
   ]
  },
  {
   "cell_type": "markdown",
   "metadata": {},
   "source": [
    "set the name of comparison prefix by pulling the parent directory name"
   ]
  },
  {
   "cell_type": "code",
   "execution_count": null,
   "metadata": {},
   "outputs": [],
   "source": [
    "comparison = tail(strsplit(getwd(),\"/\")[[1]],n=1)"
   ]
  },
  {
   "cell_type": "markdown",
   "metadata": {},
   "source": [
    "## Import .idat"
   ]
  },
  {
   "cell_type": "code",
   "execution_count": null,
   "metadata": {},
   "outputs": [],
   "source": [
    "raw_data <- import.idat(final_report_prefix = strsplit(grep(\"FinalReport.txt\",\n",
    "                                                            grep(\"contam\",list.files(),value=T,invert=T),\n",
    "                                                            value=T),\n",
    "                                                       split=\"_FinalReport.txt\")\n",
    "                        )"
   ]
  },
  {
   "cell_type": "markdown",
   "metadata": {},
   "source": [
    "## QC .idat"
   ]
  },
  {
   "cell_type": "code",
   "execution_count": null,
   "metadata": {},
   "outputs": [],
   "source": [
    "# ..."
   ]
  },
  {
   "cell_type": "markdown",
   "metadata": {},
   "source": [
    "## Import .gds file"
   ]
  },
  {
   "cell_type": "code",
   "execution_count": null,
   "metadata": {},
   "outputs": [],
   "source": [
    "# ..."
   ]
  }
 ],
 "metadata": {
  "kernelspec": {
   "display_name": "R (Custom R Image) (custom-r/latest)",
   "language": "python",
   "name": "ir__SAGEMAKER_INTERNAL__arn:aws:sagemaker:us-east-2:313101823245:image/custom-r"
  },
  "language_info": {
   "codemirror_mode": "r",
   "file_extension": ".r",
   "mimetype": "text/x-r-source",
   "name": "R",
   "pygments_lexer": "r",
   "version": "4.0.0"
  }
 },
 "nbformat": 4,
 "nbformat_minor": 4
}
