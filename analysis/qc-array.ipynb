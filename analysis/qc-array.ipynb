{
 "cells": [
  {
   "cell_type": "markdown",
   "metadata": {},
   "source": [
    "QC Array\n",
    "========\n",
    "\n",
    "***Analysis step***\n",
    "\n",
    "**Author:** *Jay Kim*"
   ]
  },
  {
   "cell_type": "markdown",
   "metadata": {},
   "source": [
    "## Test sample contamination (bafRegress)\n",
    "G. Jun, M. Flickinger, K. N. Hetrick, Kurt, J. M. Romm, K. F. Doheny, G. Abecasis, M. Boehnke,and H. M. Kang, _Detecting and Estimating Contamination of Human DNA Samples in Sequencing and Array-Based Genotype Data_, American journal of human genetics doi:10.1016/j.ajhg.2012.09.004 (volume 91 issue 5 pp.839 - 848)"
   ]
  },
  {
   "cell_type": "code",
   "execution_count": null,
   "metadata": {},
   "outputs": [],
   "source": [
    "library(httr)\n",
    "samples <- content(GET(\"http://{endpoint}/samples?projectid={projectid}\"))\n",
    "getgtc <- function(sampleid) {\n",
    "    return content(GET(\"http://{endpoint}/genotype?sampleid={sampleid}\"))\n",
    "}\n",
    "source(\"bafRegress.R\")\n",
    "baf_results <- testsamples(samples, maf, getgtc)"
   ]
  },
  {
   "cell_type": "markdown",
   "metadata": {},
   "source": [
    "## Import Packages"
   ]
  },
  {
   "cell_type": "code",
   "execution_count": null,
   "metadata": {},
   "outputs": [],
   "source": [
    "source(\"analysis-utils.R\")\n",
    "\n",
    "library(optparse)\n",
    "library(kableExtra)\n",
    "library(NMF)\n",
    "library(RColorBrewer)\n",
    "library(plyr)\n",
    "library(dplyr)\n",
    "library(SNPRelate)\n",
    "library(argyle)"
   ]
  },
  {
   "cell_type": "markdown",
   "metadata": {},
   "source": [
    "set the name of comparison prefix by pulling the parent directory name"
   ]
  },
  {
   "cell_type": "code",
   "execution_count": null,
   "metadata": {},
   "outputs": [],
   "source": [
    "comparison = tail(strsplit(getwd(),\"/\")[[1]],n=1)"
   ]
  },
  {
   "cell_type": "markdown",
   "metadata": {},
   "source": [
    "## Import .idat"
   ]
  },
  {
   "cell_type": "code",
   "execution_count": null,
   "metadata": {},
   "outputs": [],
   "source": [
    "raw_data <- import.idat(final_report_prefix = strsplit(grep(\"FinalReport.txt\",\n",
    "                                                            grep(\"contam\",list.files(),value=T,invert=T),\n",
    "                                                            value=T),\n",
    "                                                       split=\"_FinalReport.txt\")\n",
    "                        )"
   ]
  },
  {
   "cell_type": "markdown",
   "metadata": {},
   "source": [
    "## QC .idat"
   ]
  },
  {
   "cell_type": "code",
   "execution_count": null,
   "metadata": {},
   "outputs": [],
   "source": [
    "# ..."
   ]
  },
  {
   "cell_type": "markdown",
   "metadata": {},
   "source": [
    "## Import .gds file"
   ]
  },
  {
   "cell_type": "code",
   "execution_count": null,
   "metadata": {},
   "outputs": [],
   "source": [
    "# ..."
   ]
  }
 ],
 "metadata": {
  "kernelspec": {
   "display_name": "R (Custom R Image) (custom-r/latest)",
   "language": "python",
   "name": "ir__SAGEMAKER_INTERNAL__arn:aws:sagemaker:us-east-2:313101823245:image/custom-r"
  },
  "language_info": {
   "codemirror_mode": "r",
   "file_extension": ".r",
   "mimetype": "text/x-r-source",
   "name": "R",
   "pygments_lexer": "r",
   "version": "4.0.0"
  }
 },
 "nbformat": 4,
 "nbformat_minor": 4
}
