{
 "cells": [
  {
   "cell_type": "markdown",
   "metadata": {},
   "source": [
    "QC Array\n",
    "========\n",
    "\n",
    "***Analysis step***\n",
    "\n",
    "**Author:** *Jay Kim*"
   ]
  },
  {
   "cell_type": "markdown",
   "metadata": {},
   "source": [
    "## Parameters"
   ]
  },
  {
   "cell_type": "code",
   "execution_count": 2,
   "metadata": {},
   "outputs": [],
   "source": [
    "SAMPLE_INFO_BUCKET <- \"pbc-qcarray-sample-info\"\n",
    "GTC_BUCKET <- \"pbc-iscan-qcarrays\"\n",
    "BATCH_NAME <- \"JEWSC_20211118_Qcarray\""
   ]
  },
  {
   "cell_type": "markdown",
   "metadata": {},
   "source": [
    "## Setup"
   ]
  },
  {
   "cell_type": "code",
   "execution_count": 3,
   "metadata": {},
   "outputs": [],
   "source": [
    "library(dplyr, warn.conflicts = FALSE)\n",
    "library(arrow, warn.conflicts = FALSE)\n",
    "library(glue)"
   ]
  },
  {
   "cell_type": "markdown",
   "metadata": {},
   "source": [
    "## Test sample contamination (bafRegress)\n",
    "G. Jun, M. Flickinger, K. N. Hetrick, Kurt, J. M. Romm, K. F. Doheny, G. Abecasis, M. Boehnke,and H. M. Kang, _Detecting and Estimating Contamination of Human DNA Samples in Sequencing and Array-Based Genotype Data_, American journal of human genetics doi:10.1016/j.ajhg.2012.09.004 (volume 91 issue 5 pp.839 - 848)"
   ]
  },
  {
   "cell_type": "markdown",
   "metadata": {},
   "source": [
    "### Calculate the population MAF"
   ]
  },
  {
   "cell_type": "code",
   "execution_count": 4,
   "metadata": {},
   "outputs": [
    {
     "data": {
      "text/plain": [
       "FileSystemDataset with 1 Parquet file\n",
       "marker: string\n",
       "maf: double"
      ]
     },
     "metadata": {},
     "output_type": "display_data"
    }
   ],
   "source": [
    "source(\"popmaf.R\")\n",
    "\n",
    "# Compute the MAFs for this batch and store it in the cache\n",
    "calc_batch_maf(GTC_BUCKET, BATCH_NAME)\n",
    "\n",
    "# Now calculate the population MAFs by averaging across all batches\n",
    "batch_mafs <- open_dataset(glue(\"s3://{GTC_BUCKET}/maf/\"))\n",
    "popmaf <- batch_mafs %>%\n",
    "    group_by(marker) %>%\n",
    "    collect() %>%\n",
    "    summarize(maf = sum(maf) / n())"
   ]
  },
  {
   "cell_type": "markdown",
   "metadata": {},
   "source": [
    "### Test each sample for contamination"
   ]
  },
  {
   "cell_type": "code",
   "execution_count": 23,
   "metadata": {},
   "outputs": [],
   "source": [
    "source(\"bafRegress.R\")\n",
    "gtc_data <- open_dataset(glue(\"s3://{GTC_BUCKET}/parquet/{BATCH_NAME}/\"))\n",
    "baf_results <- gtc_data %>%\n",
    "    select(Sample_ID, baf, abgeno) %>%\n",
    "    group_by(Sample_ID) %>%\n",
    "    collect() %>%\n",
    "    group_modify(~ testsamplecontamination(.$baf, .$abgeno, popmaf$maf)) %>%\n",
    "    tidyr::spread(names, fit)"
   ]
  },
  {
   "cell_type": "markdown",
   "metadata": {},
   "source": [
    "# Analysis"
   ]
  },
  {
   "cell_type": "markdown",
   "metadata": {},
   "source": [
    "## Import gencalls"
   ]
  },
  {
   "cell_type": "code",
   "execution_count": 25,
   "metadata": {},
   "outputs": [
    {
     "name": "stderr",
     "output_type": "stream",
     "text": [
      "Warning message:\n",
      "“Setting row names on a tibble is deprecated.”\n",
      "Warning message:\n",
      "“Setting row names on a tibble is deprecated.”\n"
     ]
    },
    {
     "name": "stdout",
     "output_type": "stream",
     "text": [
      "--- raw_data ---\n",
      "A genotypes object with 15949 sites x 72 samples\n",
      "Allele encoding: native \n",
      "Intensity data: yes (raw) \n",
      "Sample metadata: yes\n",
      "Filters set: 0 sites / 0 samples \n",
      "Checksum: f6f64711a43d81e42b6abc8a943fccd6 \n",
      "Genotypes matrix:\n",
      "                CMB00 CMB00 CMB00 CMB00 CMB00 CMB00 CMB00 CMB00 CMB00 CPT02 \n",
      " 2010-08-Y-1111     A     A     A     A     A     A     A     A     A     A \n",
      " 2010-08-Y-1221     A     A     A     A     A     A     A     A     A     A \n",
      " 2010-08-Y-1995     A     A     A     A     A     A     A     A     A     A \n",
      " 2010-08-Y-2045     G     G     G     G     G     G     G     G     G     G \n",
      " 2010-08-Y-3042     T     T     T     T     T     T     T     T     T     T \n",
      " 2010-08-Y-3189     A     A     A     A     A     A     A     A     A     A \n",
      " 2010-08-Y-3314     T     T     T     T     T     T     T     T     T     T \n",
      " 2010-08-Y-3348     T     N     T     T     T     N     T     N     T     T \n",
      " 2010-08-Y-3576     T     T     T     T     T     T     T     T     T     T \n",
      "  2010-08-Y-749     C     C     C     C     C     C     C     C     C     C \n",
      "\n",
      "Marker map:\n",
      " chr         marker cM pos A1 A2\n",
      "   0 2010-08-Y-1111 NA   0  A  G\n",
      "   0 2010-08-Y-1221 NA   0  A  G\n",
      "   0 2010-08-Y-1995 NA   0  A  C\n",
      "   0 2010-08-Y-2045 NA   0  A  G\n",
      "   0 2010-08-Y-3042 NA   0  T  C\n",
      "   0 2010-08-Y-3189 NA   0  A  C\n",
      "   0 2010-08-Y-3314 NA   0  T  C\n",
      "   0 2010-08-Y-3348 NA   0  T  C\n",
      "   0 2010-08-Y-3576 NA   0  T  C\n",
      "   0  2010-08-Y-749 NA   0  T  C\n",
      "\n",
      "Sample info:\n",
      "            fid            iid mom dad Gender pheno\n",
      " CMB000288_0002 CMB000288_0002   0   0   NULL     0\n",
      " CMB000455_0002 CMB000455_0002   0   0   NULL     0\n",
      " CMB000462_0002 CMB000462_0002   0   0   NULL     0\n",
      " CMB000477_0002 CMB000477_0002   0   0   NULL     0\n",
      " CMB000546_0002 CMB000546_0002   0   0   NULL     0\n",
      " CMB000583_0002 CMB000583_0002   0   0   NULL     0\n",
      " CMB000588_0002 CMB000588_0002   0   0   NULL     0\n",
      " CMB000594_0002 CMB000594_0002   0   0   NULL     0\n",
      " CMB000701_0002 CMB000701_0002   0   0   NULL     0\n",
      " CPT027417_0003 CPT027417_0003   0   0   NULL     0\n"
     ]
    }
   ],
   "source": [
    "source(\"analysis-utils.R\")\n",
    "gtc_data <- open_dataset(glue(\"s3://{GTC_BUCKET}/parquet/{BATCH_NAME}/\"))\n",
    "coordinates_file_path <- glue(\"s3://{GTC_BUCKET}/InfiniumQCArray-24v1-0_A3_Physical-and-Genetic-Coordinates.txt\")\n",
    "strand_report_file_path <- glue(\"s3://{GTC_BUCKET}/InfiniumQCArray-24v1-0_A3_StrandReport_FDT.txt\")\n",
    "\n",
    "raw_data <- import.gencalls(gtc_data, coordinates_file_path, strand_report_file_path)\n",
    "summary(raw_data)\n",
    "head(raw_data)"
   ]
  },
  {
   "cell_type": "markdown",
   "metadata": {},
   "source": [
    "## QC .idat"
   ]
  },
  {
   "cell_type": "code",
   "execution_count": null,
   "metadata": {},
   "outputs": [],
   "source": [
    "# ..."
   ]
  },
  {
   "cell_type": "markdown",
   "metadata": {},
   "source": [
    "## Import .gds file"
   ]
  },
  {
   "cell_type": "code",
   "execution_count": null,
   "metadata": {},
   "outputs": [],
   "source": [
    "# ..."
   ]
  }
 ],
 "metadata": {
  "instance_type": "ml.t3.medium",
  "kernelspec": {
   "display_name": "R (Custom R Image) (custom-r/latest)",
   "language": "python",
   "name": "ir__SAGEMAKER_INTERNAL__arn:aws:sagemaker:us-east-2:313101823245:image/custom-r"
  },
  "language_info": {
   "codemirror_mode": "r",
   "file_extension": ".r",
   "mimetype": "text/x-r-source",
   "name": "R",
   "pygments_lexer": "r",
   "version": "4.0.5"
  }
 },
 "nbformat": 4,
 "nbformat_minor": 4
}
